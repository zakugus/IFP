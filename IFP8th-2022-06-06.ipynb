{
 "cells": [
  {
   "cell_type": "markdown",
   "id": "628dbc35",
   "metadata": {},
   "source": [
    "### (1) データベースの作成"
   ]
  },
  {
   "cell_type": "code",
   "execution_count": 1,
   "id": "794a3ba4",
   "metadata": {},
   "outputs": [
    {
     "data": {
      "text/plain": [
       "<sqlite3.Cursor at 0x1fd9567cb20>"
      ]
     },
     "execution_count": 1,
     "metadata": {},
     "output_type": "execute_result"
    }
   ],
   "source": [
    "# SQLite のモジュールをインポートする\n",
    "import sqlite3\n",
    " \n",
    "# Weather.db に接続する\n",
    "conn = sqlite3.connect(\"Weather.db\", isolation_level=None)\n",
    "\n",
    "# \"GW\" テーブルを作成する (month, day, highest, lowest, humidity, weather) \n",
    "# VARCHAR: 可変長文字列型, INTEGER: 整数, REAL: 実数\n",
    "sql=\"\"\"\n",
    "CREATE TABLE GW (\n",
    "    month INTEGER, \n",
    "    day INTEGER, \n",
    "    highest REAL, \n",
    "    lowest REAL, \n",
    "    humidity INTEGER, \n",
    "    weather VARCHAR(10)\n",
    ");\n",
    "\"\"\"\n",
    "\n",
    "conn.execute(sql)"
   ]
  },
  {
   "cell_type": "markdown",
   "id": "3757344e",
   "metadata": {},
   "source": [
    "### (2) テーブル作成のやり直し"
   ]
  },
  {
   "cell_type": "code",
   "execution_count": 2,
   "id": "d7dff077",
   "metadata": {},
   "outputs": [],
   "source": [
    "# データを作り直したいときには、次のコマンドを実行し、\n",
    "# 「(1) データベースの作成」の \"GW\" テーブルを作成する一連のコマンドを、改めて実行する。\n",
    "# その後、以下の「(3) レコードの登録」以降が、実行可能になる。\n",
    "# 実際に実行するには、コメント記号(#)を除いてから実行する。\n",
    "#conn.execute(\"DROP TABLE GW;\")"
   ]
  },
  {
   "cell_type": "markdown",
   "id": "da3954c3",
   "metadata": {},
   "source": [
    "### (3) レコードの登録"
   ]
  },
  {
   "cell_type": "code",
   "execution_count": 3,
   "id": "e885505b",
   "metadata": {},
   "outputs": [
    {
     "data": {
      "text/plain": [
       "<sqlite3.Cursor at 0x1fd9577e2d0>"
      ]
     },
     "execution_count": 3,
     "metadata": {},
     "output_type": "execute_result"
    }
   ],
   "source": [
    "# レコードを登録する\n",
    "conn.execute(\"INSERT INTO GW VALUES (4, 29, 19.2, 11.3, 76, 'Rain');\")\n",
    "conn.execute(\"INSERT INTO GW VALUES (4, 30, 21.7, 10.6, 49, 'Sunny');\")\n",
    "conn.execute(\"INSERT INTO GW VALUES (5, 1, 19.0, 10.1, 76, 'Rain');\")\n",
    "conn.execute(\"INSERT INTO GW VALUES (5, 2, 21.5, 7.7, 62, 'Sunny');\") \n",
    "conn.execute(\"INSERT INTO GW VALUES (5, 3, 21.6, 7.8, 54, 'Sunny');\") \n",
    "conn.execute(\"INSERT INTO GW VALUES (5, 4, 26.1, 9.8, 49, 'Sunny');\")  \n",
    "conn.execute(\"INSERT INTO GW VALUES (5, 5, 29.3, 11.9, 45, 'Sunny');\")  \n",
    "conn.execute(\"INSERT INTO GW VALUES (5, 6, 26.1, 15.2, 57, 'Cloudy');\") \n",
    "conn.execute(\"INSERT INTO GW VALUES (5, 7, 28.5, 16.7, 57, 'Sunny');\")  \n",
    "conn.execute(\"INSERT INTO GW VALUES (5, 8, 22.3, 12.2, 41, 'Sunny');\")  "
   ]
  },
  {
   "cell_type": "markdown",
   "id": "de632fda",
   "metadata": {},
   "source": [
    "### (4) 登録したレコードの表示"
   ]
  },
  {
   "cell_type": "code",
   "execution_count": 4,
   "id": "93413bd0",
   "metadata": {},
   "outputs": [
    {
     "name": "stdout",
     "output_type": "stream",
     "text": [
      "(4, 29, 19.2, 11.3, 76, 'Rain')\n",
      "(4, 30, 21.7, 10.6, 49, 'Sunny')\n",
      "(5, 1, 19.0, 10.1, 76, 'Rain')\n",
      "(5, 2, 21.5, 7.7, 62, 'Sunny')\n",
      "(5, 3, 21.6, 7.8, 54, 'Sunny')\n",
      "(5, 4, 26.1, 9.8, 49, 'Sunny')\n",
      "(5, 5, 29.3, 11.9, 45, 'Sunny')\n",
      "(5, 6, 26.1, 15.2, 57, 'Cloudy')\n",
      "(5, 7, 28.5, 16.7, 57, 'Sunny')\n",
      "(5, 8, 22.3, 12.2, 41, 'Sunny')\n"
     ]
    }
   ],
   "source": [
    "# 登録したデータを取得して表示する\n",
    "c=conn.cursor()\n",
    "c.execute(\"SELECT * FROM GW;\")\n",
    "for row in c:\n",
    "    print(row)"
   ]
  },
  {
   "cell_type": "markdown",
   "id": "ea3ec4fb",
   "metadata": {},
   "source": [
    "### (5) SQLの使用例"
   ]
  },
  {
   "cell_type": "code",
   "execution_count": 5,
   "id": "50a8fd33",
   "metadata": {},
   "outputs": [
    {
     "name": "stdout",
     "output_type": "stream",
     "text": [
      "(4, 29, 19.2, 11.3, 76, 'Rain')\n",
      "(5, 1, 19.0, 10.1, 76, 'Rain')\n"
     ]
    }
   ],
   "source": [
    "# 「制限」（ある条件に該当するタプル（行）の取得）の例\n",
    "# 天気が雨である日の、すべての情報を取得する\n",
    "sql=\"SELECT * FROM GW WHERE weather='Rain';\"\n",
    "c=conn.execute(sql)\n",
    "for row in c:\n",
    "    print (row)"
   ]
  },
  {
   "cell_type": "code",
   "execution_count": 6,
   "id": "e3fecced",
   "metadata": {},
   "outputs": [
    {
     "name": "stdout",
     "output_type": "stream",
     "text": [
      "(4, 29, 'Rain')\n",
      "(4, 30, 'Sunny')\n",
      "(5, 1, 'Rain')\n",
      "(5, 2, 'Sunny')\n",
      "(5, 3, 'Sunny')\n",
      "(5, 4, 'Sunny')\n",
      "(5, 5, 'Sunny')\n",
      "(5, 6, 'Cloudy')\n",
      "(5, 7, 'Sunny')\n",
      "(5, 8, 'Sunny')\n"
     ]
    }
   ],
   "source": [
    "# 「射影」（ある属性（カラム）だけを取得）の例\n",
    "# 月日と、その日の天気を取得する\n",
    "sql=\"SELECT month, day, weather FROM GW;\"\n",
    "c=conn.execute(sql)\n",
    "for row in c:\n",
    "    print (row)"
   ]
  },
  {
   "cell_type": "code",
   "execution_count": 7,
   "id": "7f70c307",
   "metadata": {},
   "outputs": [
    {
     "name": "stdout",
     "output_type": "stream",
     "text": [
      "(5, 5, 29.3)\n",
      "(5, 7, 28.5)\n",
      "(5, 4, 26.1)\n",
      "(5, 6, 26.1)\n",
      "(5, 8, 22.3)\n",
      "(4, 30, 21.7)\n",
      "(5, 3, 21.6)\n",
      "(5, 2, 21.5)\n",
      "(4, 29, 19.2)\n",
      "(5, 1, 19.0)\n"
     ]
    }
   ],
   "source": [
    "# 「最高気温」の降順（descending order）に並べ、月日と、その最高気温を取得する\n",
    "sql=\"SELECT month, day, highest FROM GW ORDER BY highest DESC;\"\n",
    "c=conn.execute(sql)\n",
    "for row in c:\n",
    "    print (row)"
   ]
  },
  {
   "cell_type": "code",
   "execution_count": 8,
   "id": "87ea4545",
   "metadata": {},
   "outputs": [
    {
     "name": "stdout",
     "output_type": "stream",
     "text": [
      "(5, 2, 7.7)\n",
      "(5, 3, 7.8)\n",
      "(5, 4, 9.8)\n",
      "(5, 1, 10.1)\n",
      "(4, 30, 10.6)\n",
      "(4, 29, 11.3)\n",
      "(5, 5, 11.9)\n",
      "(5, 8, 12.2)\n",
      "(5, 6, 15.2)\n",
      "(5, 7, 16.7)\n"
     ]
    }
   ],
   "source": [
    "# 「最低気温」の昇順（ascending order）に並べ、月日とその最低気温を取得する\n",
    "sql=\"SELECT month, day, lowest FROM GW ORDER BY lowest ASC;\"\n",
    "c=conn.execute(sql)\n",
    "for row in c:\n",
    "    print (row)"
   ]
  },
  {
   "cell_type": "code",
   "execution_count": 9,
   "id": "2ded0bf9",
   "metadata": {},
   "outputs": [
    {
     "name": "stdout",
     "output_type": "stream",
     "text": [
      "(5, 4, 26.1, 'Sunny')\n",
      "(5, 5, 29.3, 'Sunny')\n",
      "(5, 6, 26.1, 'Cloudy')\n",
      "(5, 7, 28.5, 'Sunny')\n"
     ]
    }
   ],
   "source": [
    "# 「最高気温」が25度以上となった月日と、その最高気温、天気を取得する\n",
    "sql=\"SELECT month, day, highest, weather FROM GW WHERE highest>=25;\"\n",
    "c=conn.execute(sql)\n",
    "for row in c:\n",
    "    print (row)"
   ]
  },
  {
   "cell_type": "code",
   "execution_count": 10,
   "id": "048c9201",
   "metadata": {},
   "outputs": [
    {
     "name": "stdout",
     "output_type": "stream",
     "text": [
      "29.3\n"
     ]
    }
   ],
   "source": [
    "# 「最高気温」の最大値を取得する\n",
    "sql=\"SELECT MAX(highest) FROM GW;\"\n",
    "c=conn.execute(sql)\n",
    "row=c.fetchone()\n",
    "print (row[0])"
   ]
  },
  {
   "cell_type": "code",
   "execution_count": 11,
   "id": "07fe0a8b",
   "metadata": {},
   "outputs": [
    {
     "name": "stdout",
     "output_type": "stream",
     "text": [
      "7.7\n"
     ]
    }
   ],
   "source": [
    "# 「最低気温」の最小値を取得する\n",
    "sql=\"SELECT MIN(lowest) FROM GW;\"\n",
    "c=conn.execute(sql)\n",
    "row=c.fetchone()\n",
    "print (row[0])"
   ]
  },
  {
   "cell_type": "code",
   "execution_count": 12,
   "id": "1908f52b",
   "metadata": {},
   "outputs": [
    {
     "name": "stdout",
     "output_type": "stream",
     "text": [
      "('Cloudy', 26.1)\n",
      "('Rain', 19.1)\n",
      "('Sunny', 24.428571428571427)\n"
     ]
    }
   ],
   "source": [
    "# GWテーブルを天気の種類でグループ化して、天気名と、その天気の平均最高気温を計算する\n",
    "sql=\"SELECT weather, AVG(highest) FROM GW GROUP BY weather;\"\n",
    "c=conn.execute(sql)\n",
    "for row in c:\n",
    "    print (row)"
   ]
  }
 ],
 "metadata": {
  "kernelspec": {
   "display_name": "Python 3 (ipykernel)",
   "language": "python",
   "name": "python3"
  },
  "language_info": {
   "codemirror_mode": {
    "name": "ipython",
    "version": 3
   },
   "file_extension": ".py",
   "mimetype": "text/x-python",
   "name": "python",
   "nbconvert_exporter": "python",
   "pygments_lexer": "ipython3",
   "version": "3.9.7"
  }
 },
 "nbformat": 4,
 "nbformat_minor": 5
}
